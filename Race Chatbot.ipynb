{
 "cells": [
  {
   "cell_type": "code",
   "execution_count": 15,
   "metadata": {},
   "outputs": [],
   "source": [
    "#Importing Lib\n",
    "import pandas as pd\n",
    "import numpy as np\n",
    "import matplotlib.pyplot as plot"
   ]
  },
  {
   "cell_type": "code",
   "execution_count": 16,
   "metadata": {},
   "outputs": [],
   "source": [
    "#reading data\n",
    "df = pd.read_csv(\"D:\\\\Chatbot1.csv\", encoding='cp1252')"
   ]
  },
  {
   "cell_type": "code",
   "execution_count": 17,
   "metadata": {},
   "outputs": [
    {
     "data": {
      "text/html": [
       "<div>\n",
       "<style scoped>\n",
       "    .dataframe tbody tr th:only-of-type {\n",
       "        vertical-align: middle;\n",
       "    }\n",
       "\n",
       "    .dataframe tbody tr th {\n",
       "        vertical-align: top;\n",
       "    }\n",
       "\n",
       "    .dataframe thead th {\n",
       "        text-align: right;\n",
       "    }\n",
       "</style>\n",
       "<table border=\"1\" class=\"dataframe\">\n",
       "  <thead>\n",
       "    <tr style=\"text-align: right;\">\n",
       "      <th></th>\n",
       "      <th>Question</th>\n",
       "      <th>response</th>\n",
       "    </tr>\n",
       "  </thead>\n",
       "  <tbody>\n",
       "    <tr>\n",
       "      <th>0</th>\n",
       "      <td>i need to discuss on the cybersecurity program</td>\n",
       "      <td>1</td>\n",
       "    </tr>\n",
       "    <tr>\n",
       "      <th>1</th>\n",
       "      <td>PG Diploma/M.Tech/MS in\\nCYBERSECURITY</td>\n",
       "      <td>1</td>\n",
       "    </tr>\n",
       "    <tr>\n",
       "      <th>2</th>\n",
       "      <td>For dip in cyber ersececurity</td>\n",
       "      <td>1</td>\n",
       "    </tr>\n",
       "    <tr>\n",
       "      <th>3</th>\n",
       "      <td>Hello, I would like to know more about MS in C...</td>\n",
       "      <td>1</td>\n",
       "    </tr>\n",
       "    <tr>\n",
       "      <th>4</th>\n",
       "      <td>I want to do mtech in cybersecurity</td>\n",
       "      <td>1</td>\n",
       "    </tr>\n",
       "  </tbody>\n",
       "</table>\n",
       "</div>"
      ],
      "text/plain": [
       "                                            Question  response\n",
       "0     i need to discuss on the cybersecurity program         1\n",
       "1             PG Diploma/M.Tech/MS in\\nCYBERSECURITY         1\n",
       "2                      For dip in cyber ersececurity         1\n",
       "3  Hello, I would like to know more about MS in C...         1\n",
       "4                I want to do mtech in cybersecurity         1"
      ]
     },
     "execution_count": 17,
     "metadata": {},
     "output_type": "execute_result"
    }
   ],
   "source": [
    "df.head(5)"
   ]
  },
  {
   "cell_type": "code",
   "execution_count": 18,
   "metadata": {},
   "outputs": [
    {
     "name": "stdout",
     "output_type": "stream",
     "text": [
      "(96, 200)\n"
     ]
    }
   ],
   "source": [
    "from sklearn.feature_extraction.text import CountVectorizer\n",
    "bow_vectorizer = CountVectorizer()\n",
    "training_vectors = bow_vectorizer.fit_transform(df['Question'])\n",
    "print(training_vectors.shape)"
   ]
  },
  {
   "cell_type": "code",
   "execution_count": 19,
   "metadata": {},
   "outputs": [],
   "source": [
    "intent = df['response']"
   ]
  },
  {
   "cell_type": "code",
   "execution_count": 20,
   "metadata": {},
   "outputs": [
    {
     "data": {
      "text/plain": [
       "MultinomialNB()"
      ]
     },
     "execution_count": 20,
     "metadata": {},
     "output_type": "execute_result"
    }
   ],
   "source": [
    "from sklearn.naive_bayes import MultinomialNB\n",
    "classifier = MultinomialNB()\n",
    "classifier.fit(training_vectors, intent)"
   ]
  },
  {
   "cell_type": "code",
   "execution_count": 21,
   "metadata": {},
   "outputs": [
    {
     "name": "stdout",
     "output_type": "stream",
     "text": [
      "(96, 200)\n"
     ]
    }
   ],
   "source": [
    "testing_vectors = bow_vectorizer.fit_transform(df['Question'])\n",
    "print(testing_vectors.shape)"
   ]
  },
  {
   "cell_type": "code",
   "execution_count": 22,
   "metadata": {},
   "outputs": [],
   "source": [
    "response = classifier.predict(testing_vectors)"
   ]
  },
  {
   "cell_type": "code",
   "execution_count": 23,
   "metadata": {},
   "outputs": [
    {
     "name": "stdout",
     "output_type": "stream",
     "text": [
      "[ 1  1  1  1  1  1  1  1  4  1  1  1  1  3  2  2  2  3  2  2  3  3  3  3\n",
      "  3  3  4  4  4  4  4  4  4  4  4  4  4  4  4  4  4  4  4  4  5  5  5  5\n",
      "  5  5  5  5  5  5  5  5  5  4  5  4  5  5  6  6  6  7  7  7  7  7  7  8\n",
      "  2  8  8  8  1  9  9  9  9 10 10  4  4  9  9  7  7  5  2  4  2  3  5  1]\n"
     ]
    }
   ],
   "source": [
    "print(response)"
   ]
  },
  {
   "cell_type": "code",
   "execution_count": 24,
   "metadata": {},
   "outputs": [
    {
     "data": {
      "text/plain": [
       "MultinomialNB()"
      ]
     },
     "execution_count": 24,
     "metadata": {},
     "output_type": "execute_result"
    }
   ],
   "source": [
    "# importing classifier\n",
    "from sklearn.naive_bayes import MultinomialNB\n",
    "classifier = MultinomialNB()\n",
    "classifier.fit(training_vectors, response)"
   ]
  },
  {
   "cell_type": "code",
   "execution_count": 25,
   "metadata": {},
   "outputs": [],
   "source": [
    "class ChatBot:\n",
    "    exit_commands = (\"quite\", \"pause\", \"bye\", \"exit\", \"goodbye\", \"later\", \"stop\")\n",
    "    def start_chat(self):\n",
    "        user_responce = input(\"Hi, I'm RETINA a RACE powered chatbot!!\\n\")\n",
    "        self.chat(user_responce)\n",
    "        \n",
    "    def chat(self, reply):\n",
    "        while not self.make_exit(reply):\n",
    "            reply = input(self.generate_response(reply)+\"\\n\")\n",
    "        return\n",
    "    \n",
    "    def generate_response(self, sentence):\n",
    "        answers = [\"A bespoke M. Tech/M.Sc. in Cybersecurity and program powered by EC-Council,Cloudx, Microsoft Azure Cloud, and Terralogic Inc. designed by industry thought leaders and delivered by REVA Academy for Corporate Excellence. For more information please click on the link https://race.reva.edu.in/pg-diploma-m-tech-in-cyber-security/\",\n",
    "                  \"PGDM/MBA in Business Analytics is a 100% outcome-driven and skill-based program exclusively designed for working professionals in mid and senior positions to accomplish a smooth career transition into the highly rewarding data science field for more information click on the link https://race.reva.edu.in/pgdm-mba-in-business-analytics/\",\n",
    "                   \"AI undeniable transformation in the technological world with a PG Diploma/ M. Tech/M.Sc in Artificial Intelligence program offered by RACE. The comprehensive learning approach to master the domains of Artificial Intelligence, Data Science, Business Analytics, Business Intelligence, and Deep Learning enables the participants to take on challenging roles in the Artificial Intelligence domain\",\n",
    "                   \"For Fee detail please contact Program office Abhijit Sinha : +91 95388 74441, Basavaraj Shetty: +91 76250 69676 or write to race@reva.edu.in\",\n",
    "                   \"One with Bachlour's degree with 2 years of work experience are eligible for the course.\",\n",
    "                   \"Please contact Abhijit Sinha : +91 95388 74441, Basavaraj Shetty: +91 76250 69676.\",\n",
    "                   \"RACE is a Full time weekend classroom Program approved by AICTE and UGC and powred by EC-Council,Cloudx, Microsoft Azure Cloud, and Terralogic Inc.\",\n",
    "                   \"RACE is Excecutive Masters program of REVA University and approved by AICTE and UGC, for more information please click on the link https://race.reva.edu.in/about.\",\n",
    "                   \"I'm RETINA, RACE powered Chatbot.\",\n",
    "                   \"Yes for more information please contact Abhijit Sinha : +91 95388 74441, Basavaraj Shetty: +91 76250 69676.\"]\n",
    "        input_vector = bow_vectorizer.transform([sentence])\n",
    "        #print(sentence, input_vector)\n",
    "        predict = classifier.predict(input_vector)\n",
    "        index = int(predict[0])\n",
    "        print(\"Accurate:\",str(classifier.predict_proba(input_vector)[0][index-1] * 100)[:5] + \"%\")\n",
    "        return answers[index-1]\n",
    "    \n",
    "    def make_exit(self,reply):\n",
    "        for exit_command in self.exit_commands:\n",
    "            if exit_command in reply:\n",
    "                print(\"Ok, have a great day!\")\n",
    "                return True\n",
    "        return False"
   ]
  },
  {
   "cell_type": "code",
   "execution_count": 26,
   "metadata": {},
   "outputs": [
    {
     "name": "stdout",
     "output_type": "stream",
     "text": [
      "Hi, I'm RETINA a RACE powered chatbot!!\n",
      "are you a bot\n",
      "Accurate: 80.53%\n",
      "I'm RETINA, RACE powered Chatbot.\n",
      "is it full time or part time\n",
      "Accurate: 99.98%\n",
      "RACE is a Full time weekend classroom Program approved by AICTE and UGC and powred by EC-Council,Cloudx, Microsoft Azure Cloud, and Terralogic Inc.\n",
      "enquire on BE Admission\n",
      "Accurate: 38.40%\n",
      "Please contact Abhijit Sinha : +91 95388 74441, Basavaraj Shetty: +91 76250 69676.\n",
      "Is MSc computer holder eligible for MTech AI?\n",
      "Accurate: 97.62%\n",
      "One with Bachlour's degree with 2 years of work experience are eligible for the course.\n",
      "is it a regular degree\n",
      "Accurate: 73.50%\n",
      "RACE is a Full time weekend classroom Program approved by AICTE and UGC and powred by EC-Council,Cloudx, Microsoft Azure Cloud, and Terralogic Inc.\n",
      "need fee details\n",
      "Accurate: 30.27%\n",
      "For Fee detail please contact Program office Abhijit Sinha : +91 95388 74441, Basavaraj Shetty: +91 76250 69676 or write to race@reva.edu.in\n",
      "need information on mba\n",
      "Accurate: 61.39%\n",
      "PGDM/MBA in Business Analytics is a 100% outcome-driven and skill-based program exclusively designed for working professionals in mid and senior positions to accomplish a smooth career transition into the highly rewarding data science field for more information click on the link https://race.reva.edu.in/pgdm-mba-in-business-analytics/\n",
      "bye\n",
      "Ok, have a great day!\n"
     ]
    }
   ],
   "source": [
    "racebot = ChatBot()\n",
    "racebot.start_chat()"
   ]
  },
  {
   "cell_type": "code",
   "execution_count": null,
   "metadata": {},
   "outputs": [],
   "source": []
  }
 ],
 "metadata": {
  "kernelspec": {
   "display_name": "Python 3 (ipykernel)",
   "language": "python",
   "name": "python3"
  },
  "language_info": {
   "codemirror_mode": {
    "name": "ipython",
    "version": 3
   },
   "file_extension": ".py",
   "mimetype": "text/x-python",
   "name": "python",
   "nbconvert_exporter": "python",
   "pygments_lexer": "ipython3",
   "version": "3.9.12"
  }
 },
 "nbformat": 4,
 "nbformat_minor": 4
}
